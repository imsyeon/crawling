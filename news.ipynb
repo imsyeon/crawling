{
 "cells": [
  {
   "cell_type": "code",
   "execution_count": 8,
   "id": "3569ac0e",
   "metadata": {},
   "outputs": [],
   "source": [
    "#pip install requests"
   ]
  },
  {
   "cell_type": "code",
   "execution_count": 1,
   "id": "5a234ee0",
   "metadata": {
    "scrolled": true
   },
   "outputs": [
    {
     "name": "stdout",
     "output_type": "stream",
     "text": [
      "Tue Jul  6 12:39:01 2021\n",
      "Tue Jul  6 12:39:07 2021\n",
      "Tue Jul  6 12:39:12 2021\n",
      "Tue Jul  6 12:39:18 2021\n",
      "Tue Jul  6 12:39:23 2021\n",
      "Tue Jul  6 12:39:29 2021\n",
      "Tue Jul  6 12:39:35 2021\n",
      "Tue Jul  6 12:39:40 2021\n"
     ]
    },
    {
     "ename": "KeyboardInterrupt",
     "evalue": "",
     "output_type": "error",
     "traceback": [
      "\u001b[1;31m---------------------------------------------------------------------------\u001b[0m",
      "\u001b[1;31mKeyboardInterrupt\u001b[0m                         Traceback (most recent call last)",
      "\u001b[1;32m<ipython-input-1-6ba2f519a18c>\u001b[0m in \u001b[0;36m<module>\u001b[1;34m\u001b[0m\n\u001b[0;32m     11\u001b[0m \u001b[1;32mif\u001b[0m \u001b[0m__name__\u001b[0m \u001b[1;33m==\u001b[0m \u001b[1;34m\"__main__\"\u001b[0m\u001b[1;33m:\u001b[0m\u001b[1;33m\u001b[0m\u001b[1;33m\u001b[0m\u001b[0m\n\u001b[0;32m     12\u001b[0m     \u001b[1;32mwhile\u001b[0m \u001b[1;32mTrue\u001b[0m\u001b[1;33m:\u001b[0m\u001b[1;33m\u001b[0m\u001b[1;33m\u001b[0m\u001b[0m\n\u001b[1;32m---> 13\u001b[1;33m         \u001b[0mcrawl\u001b[0m\u001b[1;33m(\u001b[0m\u001b[1;33m)\u001b[0m\u001b[1;33m\u001b[0m\u001b[1;33m\u001b[0m\u001b[0m\n\u001b[0m",
      "\u001b[1;32m<ipython-input-1-6ba2f519a18c>\u001b[0m in \u001b[0;36mcrawl\u001b[1;34m()\u001b[0m\n\u001b[0;32m      8\u001b[0m     \u001b[0msoup\u001b[0m \u001b[1;33m=\u001b[0m \u001b[0mBeautifulSoup\u001b[0m\u001b[1;33m(\u001b[0m\u001b[0mhtml\u001b[0m\u001b[1;33m,\u001b[0m \u001b[1;34m'html.parser'\u001b[0m\u001b[1;33m)\u001b[0m\u001b[1;33m\u001b[0m\u001b[1;33m\u001b[0m\u001b[0m\n\u001b[0;32m      9\u001b[0m     \u001b[0mprint\u001b[0m\u001b[1;33m(\u001b[0m\u001b[0mtime\u001b[0m\u001b[1;33m.\u001b[0m\u001b[0mctime\u001b[0m\u001b[1;33m(\u001b[0m\u001b[1;33m)\u001b[0m\u001b[1;33m)\u001b[0m\u001b[1;33m\u001b[0m\u001b[1;33m\u001b[0m\u001b[0m\n\u001b[1;32m---> 10\u001b[1;33m     \u001b[0mtime\u001b[0m\u001b[1;33m.\u001b[0m\u001b[0msleep\u001b[0m\u001b[1;33m(\u001b[0m\u001b[1;36m5\u001b[0m\u001b[1;33m)\u001b[0m\u001b[1;33m\u001b[0m\u001b[1;33m\u001b[0m\u001b[0m\n\u001b[0m\u001b[0;32m     11\u001b[0m \u001b[1;32mif\u001b[0m \u001b[0m__name__\u001b[0m \u001b[1;33m==\u001b[0m \u001b[1;34m\"__main__\"\u001b[0m\u001b[1;33m:\u001b[0m\u001b[1;33m\u001b[0m\u001b[1;33m\u001b[0m\u001b[0m\n\u001b[0;32m     12\u001b[0m     \u001b[1;32mwhile\u001b[0m \u001b[1;32mTrue\u001b[0m\u001b[1;33m:\u001b[0m\u001b[1;33m\u001b[0m\u001b[1;33m\u001b[0m\u001b[0m\n",
      "\u001b[1;31mKeyboardInterrupt\u001b[0m: "
     ]
    }
   ],
   "source": [
    "import requests\n",
    "from bs4 import BeautifulSoup\n",
    "import time\n",
    "def crawl():\n",
    "    req =  requests.get('https://finance.naver.com/news/news_list.nhn?mode=LSS2D&section_id=101&section_id2=258')\n",
    "    ## HTML 소스 가져오기\n",
    "    html = req.text\n",
    "    soup = BeautifulSoup(html, 'html.parser')\n",
    "    print(time.ctime())\n",
    "    time.sleep(5)\n",
    "if __name__ == \"__main__\":\n",
    "    while True:\n",
    "        crawl()\n"
   ]
  },
  {
   "cell_type": "code",
   "execution_count": 20,
   "id": "7447a65d",
   "metadata": {
    "scrolled": true
   },
   "outputs": [
    {
     "name": "stdout",
     "output_type": "stream",
     "text": [
      "한성재단 컨소시엄, 대학병원 ‘초협력’ 통한 청라 글로벌 의료클러스터 구축\n",
      "/news/news_read.nhn?article_id=0003932798&office_id=011&mode=LSS2D&type=0&section_id=101&section_id2=258&section_id3=&date=20210706&page=1\n",
      "상반기에만 15% 늘었다…'위안화 채권' 사는 글로벌 투자자들\n",
      "/news/news_read.nhn?article_id=0004612144&office_id=008&mode=LSS2D&type=0&section_id=101&section_id2=258&section_id3=&date=20210706&page=1\n",
      "연내 기준금리 올린다는데…중소기업, 대출금리 인상 '걱정'\n",
      "/news/news_read.nhn?article_id=0012506498&office_id=001&mode=LSS2D&type=0&section_id=101&section_id2=258&section_id3=&date=20210706&page=1\n",
      "투캉스의 계절...태양보다 뜨거운 서머랠리 치얼스\n",
      "/news/news_read.nhn?article_id=0004932596&office_id=277&mode=LSS2D&type=0&section_id=101&section_id2=258&section_id3=&date=20210706&page=1\n",
      "[올댓차이나] 홍콩 증시, 中 인터넷기업 규제에 속락 개장...H주 0.3%↓\n",
      "/news/news_read.nhn?article_id=0010590964&office_id=003&mode=LSS2D&type=0&section_id=101&section_id2=258&section_id3=&date=20210706&page=1\n",
      "대기업 러브콜에 몸값 뛰는 보톡스株\n",
      "/news/news_read.nhn?article_id=0004932593&office_id=277&mode=LSS2D&type=0&section_id=101&section_id2=258&section_id3=&date=20210706&page=1\n",
      "유가 더 뛴다...에쓰오일·원유 ETF '재가열'\n",
      "/news/news_read.nhn?article_id=0002508462&office_id=119&mode=LSS2D&type=0&section_id=101&section_id2=258&section_id3=&date=20210706&page=1\n",
      "메모리 고점 논란에도 ‘10만전자’ 기대 솔솔\n",
      "/news/news_read.nhn?article_id=0001857613&office_id=016&mode=LSS2D&type=0&section_id=101&section_id2=258&section_id3=&date=20210706&page=1\n",
      "영국 금융 당국, 차등의결권 확대 적용 제안\n",
      "/news/news_read.nhn?article_id=0012506347&office_id=001&mode=LSS2D&type=0&section_id=101&section_id2=258&section_id3=&date=20210706&page=1\n",
      "키움증권, 국내선물옵션 수수료 최대 90% 할인 이벤트\n",
      "/news/news_read.nhn?article_id=0002508443&office_id=119&mode=LSS2D&type=0&section_id=101&section_id2=258&section_id3=&date=20210706&page=1\n",
      "[초동시각] 펀드 불완전판매 100% 원금 보상, 그 후..\n",
      "/news/news_read.nhn?article_id=0004932562&office_id=277&mode=LSS2D&type=0&section_id=101&section_id2=258&section_id3=&date=20210706&page=1\n",
      "중흥 품에 안긴 대우건설, 주가 어디로\n",
      "/news/news_read.nhn?article_id=0010590844&office_id=003&mode=LSS2D&type=0&section_id=101&section_id2=258&section_id3=&date=20210706&page=1\n"
     ]
    }
   ],
   "source": [
    "import requests\n",
    "from bs4 import BeautifulSoup\n",
    "import json\n",
    "import os\n",
    "\n",
    "\n",
    "req =  requests.get('https://finance.naver.com/news/news_list.nhn?mode=LSS2D&section_id=101&section_id2=258')\n",
    "html = req.text\n",
    "soup = BeautifulSoup(html, 'html.parser')\n",
    "\n",
    "my_titles = soup.select(\n",
    "    'dd > a '\n",
    ")\n",
    "\n",
    "for title in my_titles:\n",
    "    print(title.text)\n",
    "    print(title.get('href').replace('§','&sect'))"
   ]
  },
  {
   "cell_type": "code",
   "execution_count": null,
   "id": "433bebc5",
   "metadata": {},
   "outputs": [],
   "source": []
  }
 ],
 "metadata": {
  "kernelspec": {
   "display_name": "Python 3",
   "language": "python",
   "name": "python3"
  },
  "language_info": {
   "codemirror_mode": {
    "name": "ipython",
    "version": 3
   },
   "file_extension": ".py",
   "mimetype": "text/x-python",
   "name": "python",
   "nbconvert_exporter": "python",
   "pygments_lexer": "ipython3",
   "version": "3.9.5"
  }
 },
 "nbformat": 4,
 "nbformat_minor": 5
}
