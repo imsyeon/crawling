{
 "cells": [
  {
   "cell_type": "markdown",
   "id": "39ec8c29",
   "metadata": {},
   "source": [
    "# 한빛 마이페이지 작업"
   ]
  },
  {
   "cell_type": "code",
   "execution_count": 1,
   "id": "ca2b5239",
   "metadata": {},
   "outputs": [],
   "source": [
    "import requests\n",
    "from bs4 import BeautifulSoup"
   ]
  },
  {
   "cell_type": "code",
   "execution_count": 2,
   "id": "34103bc7",
   "metadata": {},
   "outputs": [],
   "source": [
    "url = 'https://www.hanbit.co.kr/member/login_proc.php'"
   ]
  },
  {
   "cell_type": "code",
   "execution_count": 3,
   "id": "51a334db",
   "metadata": {},
   "outputs": [],
   "source": [
    "data = {\n",
    "    'm_id':'k2moon'\n",
    "    ,'m_passwd':'test1357!'\n",
    "}"
   ]
  },
  {
   "cell_type": "code",
   "execution_count": 4,
   "id": "d8b0653b",
   "metadata": {},
   "outputs": [],
   "source": [
    "s = requests.Session()\n",
    "resp = s.post(url, data=data)"
   ]
  },
  {
   "cell_type": "code",
   "execution_count": 7,
   "id": "bdbae039",
   "metadata": {},
   "outputs": [
    {
     "data": {
      "text/plain": [
       "\"<script>location.href='https://www.hanbit.co.kr';</script>\""
      ]
     },
     "execution_count": 7,
     "metadata": {},
     "output_type": "execute_result"
    }
   ],
   "source": [
    "resp.text"
   ]
  },
  {
   "cell_type": "code",
   "execution_count": 8,
   "id": "651b2c09",
   "metadata": {},
   "outputs": [],
   "source": [
    "url2 = 'https://www.hanbit.co.kr/myhanbit/myhanbit.html'"
   ]
  },
  {
   "cell_type": "code",
   "execution_count": 9,
   "id": "54d98b03",
   "metadata": {},
   "outputs": [],
   "source": [
    "resp2 = s.get(url2)"
   ]
  },
  {
   "cell_type": "code",
   "execution_count": 13,
   "id": "b5cf3271",
   "metadata": {},
   "outputs": [],
   "source": [
    "text = resp2.text\n",
    "soup = BeautifulSoup(text)\n",
    "#soup"
   ]
  },
  {
   "cell_type": "code",
   "execution_count": 31,
   "id": "bf0e7054",
   "metadata": {},
   "outputs": [],
   "source": [
    "div = soup.select_one('div.myhanbit_wrap')\n",
    "#div"
   ]
  },
  {
   "cell_type": "code",
   "execution_count": 19,
   "id": "ba4b84e0",
   "metadata": {},
   "outputs": [
    {
     "data": {
      "text/plain": [
       "'일반'"
      ]
     },
     "execution_count": 19,
     "metadata": {},
     "output_type": "execute_result"
    }
   ],
   "source": [
    "my_rating = div.select_one('p')\n",
    "my_rating = my_rating.select_one('span').text\n",
    "my_rating"
   ]
  },
  {
   "cell_type": "code",
   "execution_count": 20,
   "id": "fdfc23be",
   "metadata": {},
   "outputs": [
    {
     "data": {
      "text/plain": [
       "<div class=\"sm_mymileage\">\n",
       "<dl class=\"mileage_section1\">\n",
       "<dt>마일리지</dt>\n",
       "<dd><span>500</span> 점</dd>\n",
       "</dl>\n",
       "<dl class=\"mileage_section2\">\n",
       "<dt>한빛이코인</dt>\n",
       "<dd><span>0</span> 원</dd>\n",
       "</dl>\n",
       "</div>"
      ]
     },
     "execution_count": 20,
     "metadata": {},
     "output_type": "execute_result"
    }
   ],
   "source": [
    "sm_mymileage = div.select_one('div.sm_mymileage')\n",
    "sm_mymileage"
   ]
  },
  {
   "cell_type": "code",
   "execution_count": 28,
   "id": "03614f5e",
   "metadata": {},
   "outputs": [],
   "source": [
    "m1 = sm_mymileage.select_one('dl.mileage_section1')\n",
    "m1 = m1.select_one('span').text"
   ]
  },
  {
   "cell_type": "code",
   "execution_count": 29,
   "id": "ccdc3634",
   "metadata": {},
   "outputs": [
    {
     "data": {
      "text/plain": [
       "'0'"
      ]
     },
     "execution_count": 29,
     "metadata": {},
     "output_type": "execute_result"
    }
   ],
   "source": [
    "m2 = sm_mymileage.select_one('dl.mileage_section2')\n",
    "m2 = m2.select_one('span').text\n",
    "m2"
   ]
  },
  {
   "cell_type": "code",
   "execution_count": 30,
   "id": "817133d3",
   "metadata": {},
   "outputs": [
    {
     "data": {
      "text/plain": [
       "('일반', '500', '0')"
      ]
     },
     "execution_count": 30,
     "metadata": {},
     "output_type": "execute_result"
    }
   ],
   "source": [
    "my_rating,m1,m2"
   ]
  }
 ],
 "metadata": {
  "kernelspec": {
   "display_name": "Python 3",
   "language": "python",
   "name": "python3"
  },
  "language_info": {
   "codemirror_mode": {
    "name": "ipython",
    "version": 3
   },
   "file_extension": ".py",
   "mimetype": "text/x-python",
   "name": "python",
   "nbconvert_exporter": "python",
   "pygments_lexer": "ipython3",
   "version": "3.8.10"
  }
 },
 "nbformat": 4,
 "nbformat_minor": 5
}
