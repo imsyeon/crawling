{
 "cells": [
  {
   "cell_type": "markdown",
   "id": "84e3184c",
   "metadata": {},
   "source": [
    "# Naver 검색 : 책, 뉴스, 블로그, 까페 글"
   ]
  },
  {
   "cell_type": "code",
   "execution_count": 51,
   "id": "5fabaf19",
   "metadata": {},
   "outputs": [],
   "source": [
    "import urllib.request\n",
    "import json\n",
    "import requests"
   ]
  },
  {
   "cell_type": "code",
   "execution_count": 9,
   "id": "5c3a919e",
   "metadata": {},
   "outputs": [],
   "source": [
    "url = 'https://openapi.naver.com/v1/search/news.json'\n",
    "encText = urllib.parse.quote('파이썬')\n",
    "url = url + '?query='+ encText + '&display=10&start=1&sort=sim'\n",
    "req = urllib.request.Request(url)\n",
    "req.add_header('X-Naver-Client-Id', 'luXZ9GMakzDsF6bj17A8')\n",
    "req.add_header('X-Naver-Client-Secret','XXq5PinUzB')\n",
    "resp = urllib.request.urlopen(req)\n",
    "resp.getcode()"
   ]
  },
  {
   "cell_type": "code",
   "execution_count": 12,
   "id": "cbf201e1",
   "metadata": {},
   "outputs": [],
   "source": [
    "# resp.read().decode('utf-8')"
   ]
  },
  {
   "cell_type": "code",
   "execution_count": 17,
   "id": "519fba9f",
   "metadata": {},
   "outputs": [],
   "source": [
    "url = 'https://openapi.naver.com/v1/search/news.json'\n",
    "value = {'query':'파이썬', 'display':'10'\n",
    "         ,'start':'1','sort':'sim'}\n",
    "params = urllib.parse.urlencode(value)\n",
    "url = url + '?' + params\n",
    "headers = {\n",
    "           'X-Naver-Client-Id': 'luXZ9GMakzDsF6bj17A8'\n",
    "            ,'X-Naver-Client-Secret':'XXq5PinUzB'\n",
    "          }\n",
    "req = urllib.request.Request(url, headers=headers)\n",
    "resp = urllib.request.urlopen(req)\n",
    "resp.getcode()"
   ]
  },
  {
   "cell_type": "code",
   "execution_count": 20,
   "id": "136ecce3",
   "metadata": {},
   "outputs": [],
   "source": [
    "data = json.loads(resp.read().decode('utf-8'))"
   ]
  },
  {
   "cell_type": "code",
   "execution_count": 58,
   "id": "1d4d9320",
   "metadata": {},
   "outputs": [
    {
     "data": {
      "text/plain": [
       "200"
      ]
     },
     "execution_count": 58,
     "metadata": {},
     "output_type": "execute_result"
    }
   ],
   "source": [
    "url = 'https://openapi.naver.com/v1/search/shop.json'\n",
    "params = {'query':'중고무선키보드', 'display':'10'\n",
    "         ,'start':'1','sort':'sim'}\n",
    "headers = {\n",
    "           'X-Naver-Client-Id': 'luXZ9GMakzDsF6bj17A8'\n",
    "            ,'X-Naver-Client-Secret':'XXq5PinUzB'\n",
    "          }\n",
    "# params : get요청, data : post 요청\n",
    "resp = requests.get(url, headers=headers, params=params)\n",
    "resp.status_code"
   ]
  },
  {
   "cell_type": "code",
   "execution_count": 59,
   "id": "3ce04b0b",
   "metadata": {},
   "outputs": [
    {
     "data": {
      "text/plain": [
       "{'lastBuildDate': 'Mon, 31 May 2021 12:29:10 +0900',\n",
       " 'total': 421,\n",
       " 'start': 1,\n",
       " 'display': 10,\n",
       " 'items': [{'title': '레트로타자기 타자기 구식 날치 1980S 화이트 영문기계 정상사용 <b>중고</b>물 복고문예물',\n",
       "   'link': 'https://search.shopping.naver.com/gate.nhn?id=83129022507',\n",
       "   'image': 'https://shopping-phinf.pstatic.net/main_8312902/83129022507.jpg',\n",
       "   'lprice': '72770',\n",
       "   'hprice': '',\n",
       "   'mallName': '영칠이마트',\n",
       "   'productId': '83129022507',\n",
       "   'productType': '2',\n",
       "   'brand': '',\n",
       "   'maker': '',\n",
       "   'category1': '디지털/가전',\n",
       "   'category2': '주변기기',\n",
       "   'category3': '키보드',\n",
       "   'category4': '무선키보드'},\n",
       "  {'title': '딸기PC/<b>중고</b> 삼성 태블릿 갤럭시 S2 전용 블루투스 <b>키보드</b>/EJ-FT810',\n",
       "   'link': 'https://search.shopping.naver.com/gate.nhn?id=20268060709',\n",
       "   'image': 'https://shopping-phinf.pstatic.net/main_2026806/20268060709.jpg',\n",
       "   'lprice': '21120',\n",
       "   'hprice': '',\n",
       "   'mallName': '11번가',\n",
       "   'productId': '20268060709',\n",
       "   'productType': '2',\n",
       "   'brand': '삼성',\n",
       "   'maker': '',\n",
       "   'category1': '디지털/가전',\n",
       "   'category2': '주변기기',\n",
       "   'category3': '키보드',\n",
       "   'category4': '무선키보드'},\n",
       "  {'title': '레트로타자기 타자기 언더우드310 영문1970S <b>중고</b>물 정상사용 빈티지 선물',\n",
       "   'link': 'https://search.shopping.naver.com/gate.nhn?id=83129022477',\n",
       "   'image': 'https://shopping-phinf.pstatic.net/main_8312902/83129022477.jpg',\n",
       "   'lprice': '279770',\n",
       "   'hprice': '',\n",
       "   'mallName': '영칠이마트',\n",
       "   'productId': '83129022477',\n",
       "   'productType': '2',\n",
       "   'brand': '',\n",
       "   'maker': '',\n",
       "   'category1': '디지털/가전',\n",
       "   'category2': '주변기기',\n",
       "   'category3': '키보드',\n",
       "   'category4': '무선키보드'},\n",
       "  {'title': '레트로타자기 타자기 유럽 수입대 영문 s <b>중고</b>물 정상적인 사용 문예 복고',\n",
       "   'link': 'https://search.shopping.naver.com/gate.nhn?id=83129022429',\n",
       "   'image': 'https://shopping-phinf.pstatic.net/main_8312902/83129022429.jpg',\n",
       "   'lprice': '783700',\n",
       "   'hprice': '',\n",
       "   'mallName': '영칠이마트',\n",
       "   'productId': '83129022429',\n",
       "   'productType': '2',\n",
       "   'brand': '',\n",
       "   'maker': '',\n",
       "   'category1': '디지털/가전',\n",
       "   'category2': '주변기기',\n",
       "   'category3': '키보드',\n",
       "   'category4': '무선키보드'},\n",
       "  {'title': '와이어리스 기계식 <b>키보드</b> <b>중고</b> 기계식 <b>키보드</b> 초보용 복주머니 / 판매 환',\n",
       "   'link': 'https://search.shopping.naver.com/gate.nhn?id=26966629020',\n",
       "   'image': 'https://shopping-phinf.pstatic.net/main_2696662/26966629020.jpg',\n",
       "   'lprice': '8860',\n",
       "   'hprice': '',\n",
       "   'mallName': '롯데ON',\n",
       "   'productId': '26966629020',\n",
       "   'productType': '2',\n",
       "   'brand': '',\n",
       "   'maker': '',\n",
       "   'category1': '디지털/가전',\n",
       "   'category2': '주변기기',\n",
       "   'category3': '키보드',\n",
       "   'category4': '무선키보드'},\n",
       "  {'title': '<b>무선</b> 게이밍 기계식 <b>키보드</b> 사무용 컴퓨터 <b>중고</b> 폰 세대 2세대 블루투스 마우스 매직 도착',\n",
       "   'link': 'https://search.shopping.naver.com/gate.nhn?id=83076881345',\n",
       "   'image': 'https://shopping-phinf.pstatic.net/main_8307688/83076881345.jpg',\n",
       "   'lprice': '207000',\n",
       "   'hprice': '',\n",
       "   'mallName': '또우요우',\n",
       "   'productId': '83076881345',\n",
       "   'productType': '2',\n",
       "   'brand': '',\n",
       "   'maker': '',\n",
       "   'category1': '디지털/가전',\n",
       "   'category2': '주변기기',\n",
       "   'category3': '키보드',\n",
       "   'category4': '무선키보드'},\n",
       "  {'title': '레트로타자기 타자기 구식 1980s 화이트 영문기계 정상적으로 사용 <b>중고</b>물 복고 문예 선물',\n",
       "   'link': 'https://search.shopping.naver.com/gate.nhn?id=83129022439',\n",
       "   'image': 'https://shopping-phinf.pstatic.net/main_8312902/83129022439.jpg',\n",
       "   'lprice': '124290',\n",
       "   'hprice': '',\n",
       "   'mallName': '영칠이마트',\n",
       "   'productId': '83129022439',\n",
       "   'productType': '2',\n",
       "   'brand': '',\n",
       "   'maker': '',\n",
       "   'category1': '디지털/가전',\n",
       "   'category2': '주변기기',\n",
       "   'category3': '키보드',\n",
       "   'category4': '무선키보드'},\n",
       "  {'title': '레트로타자기 타자기 올리브티 이탈리아제 레테라 32 <b>중고</b> 고물 정상적인 사용 문예 레트로 선물',\n",
       "   'link': 'https://search.shopping.naver.com/gate.nhn?id=83129022472',\n",
       "   'image': 'https://shopping-phinf.pstatic.net/main_8312902/83129022472.jpg',\n",
       "   'lprice': '624770',\n",
       "   'hprice': '',\n",
       "   'mallName': '영칠이마트',\n",
       "   'productId': '83129022472',\n",
       "   'productType': '2',\n",
       "   'brand': '',\n",
       "   'maker': '',\n",
       "   'category1': '디지털/가전',\n",
       "   'category2': '주변기기',\n",
       "   'category3': '키보드',\n",
       "   'category4': '무선키보드'},\n",
       "  {'title': '레트로타자기 타자기 히어로 히어로 표 타자기계 영문 자판 정상사용 <b>중고</b>물 빈티지 컬렉션 문예선물',\n",
       "   'link': 'https://search.shopping.naver.com/gate.nhn?id=83129022504',\n",
       "   'image': 'https://shopping-phinf.pstatic.net/main_8312902/83129022504.jpg',\n",
       "   'lprice': '72770',\n",
       "   'hprice': '',\n",
       "   'mallName': '영칠이마트',\n",
       "   'productId': '83129022504',\n",
       "   'productType': '2',\n",
       "   'brand': '',\n",
       "   'maker': '',\n",
       "   'category1': '디지털/가전',\n",
       "   'category2': '주변기기',\n",
       "   'category3': '키보드',\n",
       "   'category4': '무선키보드'},\n",
       "  {'title': '다르유 기계<b>키보드</b> 핫 플러그 뽑기 청축 PC방 닭 먹기 게임 백라이트 <b>중고</b>기계키',\n",
       "   'link': 'https://search.shopping.naver.com/gate.nhn?id=82502648424',\n",
       "   'image': 'https://shopping-phinf.pstatic.net/main_8250264/82502648424.jpg',\n",
       "   'lprice': '40800',\n",
       "   'hprice': '',\n",
       "   'mallName': '24도매마켓',\n",
       "   'productId': '82502648424',\n",
       "   'productType': '2',\n",
       "   'brand': '',\n",
       "   'maker': '',\n",
       "   'category1': '디지털/가전',\n",
       "   'category2': '주변기기',\n",
       "   'category3': '키보드',\n",
       "   'category4': '무선키보드'}]}"
      ]
     },
     "execution_count": 59,
     "metadata": {},
     "output_type": "execute_result"
    }
   ],
   "source": [
    "data = resp.json()\n",
    "data"
   ]
  },
  {
   "cell_type": "code",
   "execution_count": 28,
   "id": "78113bc9",
   "metadata": {},
   "outputs": [
    {
     "data": {
      "text/plain": [
       "\"요기요, 신입 개발자 '루키 히어로' 4기 채용...<b>파이썬</b>·자바 코딩테스트\""
      ]
     },
     "execution_count": 28,
     "metadata": {},
     "output_type": "execute_result"
    }
   ],
   "source": [
    "items = data['items']\n",
    "item = items[0]\n",
    "item['title']"
   ]
  },
  {
   "cell_type": "code",
   "execution_count": 34,
   "id": "09a15dbf",
   "metadata": {},
   "outputs": [
    {
     "name": "stdout",
     "output_type": "stream",
     "text": [
      "요기요, 신입 개발자 '루키 히어로' 4기 채용...파이썬</b>·자바 코딩테스트\n",
      "요기요, 신입 개발자 공개채용…자바 개발자도 모집\n",
      "&quot;신입 개발자 경력?…'요기요'에서 쌓아요&quot;\n",
      "요기요, 신입 개발자 공개채용 '루키 히어로' 4기 모집\n",
      "요기요, 신입 개발자 공개채용 ‘루키 히어로’ 4기 모집\n",
      "요기요, 신입 개발자 공개채용 ‘루키 히어로’ 4기 모집\n",
      "요기요, 신입 개발자 공개채용 ‘루키 히어로’ 4기 모집\n",
      "강남 이젠아카데미컴퓨터학원, ‘Open API활용 자바(JAVA) 안드로이드 웹&amp;앱 ...\n",
      "파이썬</b> 창시자 귀도 반 로섬 &quot;최대 약점인 속도 4년 내 최대 5배 향상 예정&quot;\n",
      "파이썬</b> 가르치는 4대 은행들…1년 만에 석사급 150명 양성\n"
     ]
    }
   ],
   "source": [
    "for item in items:\n",
    "    title = item['title']\n",
    "    title = title.replace('<b>','')\n",
    "    print(title)"
   ]
  },
  {
   "cell_type": "markdown",
   "id": "a0f34267",
   "metadata": {},
   "source": [
    "## 네이버 OPEN API 검색기\n",
    "- 1. Book\n",
    "- 2. Blog\n",
    "- 3. News\n",
    "- 4. Quit"
   ]
  },
  {
   "cell_type": "code",
   "execution_count": 64,
   "id": "ff73290e",
   "metadata": {},
   "outputs": [],
   "source": [
    "def naver_search_result(number, data):\n",
    "    items = data['items']\n",
    "    \n",
    "    if number == 1:\n",
    "        print('book search result') # title,author,price,discount,publisher,pubdate\n",
    "        print('*'*50)\n",
    "        for item in items:\n",
    "            title = item['title']\n",
    "            author = item['author']\n",
    "            price = item['price']\n",
    "            discount = item['discount']\n",
    "            publisher = item['publisher']\n",
    "            pubdate = item['pubdate']\n",
    "            print(title,author)\n",
    "            print(price,discount)\n",
    "            print(publisher, pubdate)\n",
    "            print('*'*50)\n",
    "            \n",
    "    elif number == 2:\n",
    "        print('blog search result') # title,description,bloggername\n",
    "        print('*'*50)\n",
    "        for item in items:\n",
    "            title = item['title']\n",
    "            description = item['description']\n",
    "            bloggername = item['bloggername']\n",
    "            print(title)\n",
    "            print(description)\n",
    "            print(bloggername)\n",
    "            print('*'*50)\n",
    "            \n",
    "    elif number == 3:\n",
    "        print('news search result') # title,originallink,description,pubDate\n",
    "        print('*'*50)\n",
    "        for item in items:\n",
    "            title = item['title']\n",
    "            originallink = item['originallink']\n",
    "            description = item['description']\n",
    "            pubDate = item['pubDate']\n",
    "            print(title)\n",
    "            print(originallink)\n",
    "            print(description)\n",
    "            print(pubDate)\n",
    "            print('*'*50)\n",
    "    elif number == 4:\n",
    "        print('shop search result') # title,originallink,description,pubDate\n",
    "        print('*'*50)\n",
    "        for item in items:\n",
    "            title = item['title']\n",
    "            link = item['link']\n",
    "            lprice = item['lprice']\n",
    "            hprice = item['hprice']\n",
    "            mallName = item['mallName']\n",
    "            print(title)\n",
    "            print(link)\n",
    "            print(lprice,hprice)\n",
    "            print(mallName)\n",
    "            print('*'*50)\n",
    "    else:\n",
    "        print('Error!!')\n"
   ]
  },
  {
   "cell_type": "code",
   "execution_count": 60,
   "id": "e79c47c4",
   "metadata": {},
   "outputs": [],
   "source": [
    "def naver_search_json(number, search_word):\n",
    "    search_list = ['book','blog','news','shop']\n",
    "    choice = search_list[number-1]\n",
    "    url = f'https://openapi.naver.com/v1/search/{choice}.json'\n",
    "    print(url)\n",
    "    params = {'query':search_word, 'display':'10'\n",
    "             ,'start':'1','sort':'sim'}\n",
    "    headers = {\n",
    "               'X-Naver-Client-Id': 'luXZ9GMakzDsF6bj17A8'\n",
    "                ,'X-Naver-Client-Secret':'XXq5PinUzB'\n",
    "              }\n",
    "    # params : get요청, data : post 요청\n",
    "    resp = requests.get(url, headers=headers, params=params)\n",
    "    status = resp.status_code\n",
    "    if status == 200:\n",
    "        data = resp.json()\n",
    "        naver_search_result(number,data)\n",
    "    else:\n",
    "        print('Error : ' + status)\n",
    "        return"
   ]
  },
  {
   "cell_type": "code",
   "execution_count": null,
   "id": "b378619a",
   "metadata": {},
   "outputs": [
    {
     "name": "stdout",
     "output_type": "stream",
     "text": [
      "\n",
      "1. book search\n",
      "2. blog search\n",
      "3. news search\n",
      "4. shop search \n",
      "0. quit\n",
      "\n"
     ]
    }
   ],
   "source": [
    "prompt = '''\n",
    "1. book search\n",
    "2. blog search\n",
    "3. news search\n",
    "4. shop search \n",
    "0. quit\n",
    "'''\n",
    "number = 0\n",
    "while True: \n",
    "    print(prompt)\n",
    "    number = int(input('선택 >> '))\n",
    "    if number == 0:\n",
    "        print('End!!!')\n",
    "        break\n",
    "    search_word = input('검색어 >>')\n",
    "    naver_search_json(number,search_word)"
   ]
  },
  {
   "cell_type": "code",
   "execution_count": null,
   "id": "420a07e9",
   "metadata": {},
   "outputs": [],
   "source": []
  },
  {
   "cell_type": "code",
   "execution_count": null,
   "id": "9510230f",
   "metadata": {},
   "outputs": [],
   "source": []
  },
  {
   "cell_type": "code",
   "execution_count": null,
   "id": "f3ada1b1",
   "metadata": {},
   "outputs": [],
   "source": []
  },
  {
   "cell_type": "code",
   "execution_count": null,
   "id": "9c019e49",
   "metadata": {},
   "outputs": [],
   "source": []
  },
  {
   "cell_type": "code",
   "execution_count": null,
   "id": "3d7be413",
   "metadata": {},
   "outputs": [],
   "source": []
  },
  {
   "cell_type": "code",
   "execution_count": null,
   "id": "c83f7952",
   "metadata": {},
   "outputs": [],
   "source": []
  },
  {
   "cell_type": "code",
   "execution_count": null,
   "id": "c9ee74ba",
   "metadata": {},
   "outputs": [],
   "source": []
  },
  {
   "cell_type": "code",
   "execution_count": null,
   "id": "d02e7f65",
   "metadata": {},
   "outputs": [],
   "source": []
  },
  {
   "cell_type": "code",
   "execution_count": null,
   "id": "a0839491",
   "metadata": {},
   "outputs": [],
   "source": []
  }
 ],
 "metadata": {
  "kernelspec": {
   "display_name": "Python 3",
   "language": "python",
   "name": "python3"
  },
  "language_info": {
   "codemirror_mode": {
    "name": "ipython",
    "version": 3
   },
   "file_extension": ".py",
   "mimetype": "text/x-python",
   "name": "python",
   "nbconvert_exporter": "python",
   "pygments_lexer": "ipython3",
   "version": "3.8.10"
  }
 },
 "nbformat": 4,
 "nbformat_minor": 5
}
