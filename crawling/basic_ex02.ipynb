{
 "cells": [
  {
   "cell_type": "markdown",
   "id": "729d7527",
   "metadata": {},
   "source": [
    "# 네이버 영화\n",
    "- 영화랭킹에서  평점순 영화명, 평점 추출함\n",
    "- movie_name_list\n",
    "- movie_point_list"
   ]
  },
  {
   "cell_type": "code",
   "execution_count": 9,
   "id": "c06319f5",
   "metadata": {},
   "outputs": [],
   "source": [
    "import requests\n",
    "from bs4 import BeautifulSoup\n",
    "import datetime"
   ]
  },
  {
   "cell_type": "code",
   "execution_count": 20,
   "id": "4210037b",
   "metadata": {},
   "outputs": [],
   "source": [
    "def get_naver_movie(sel='cur', date='20210526'):  \n",
    "    url = 'https://movie.naver.com/movie/sdb/rank/rmovie.nhn'\n",
    "    params = {'sel':sel,'date':date }\n",
    "    response = requests.get(url, params=params)\n",
    "    s_code = response.status_code\n",
    "    if s_code == 200:\n",
    "        text = response.text\n",
    "        soup = BeautifulSoup(text)\n",
    "    else:\n",
    "        soup = 'Error:' + s_code\n",
    "    return soup"
   ]
  },
  {
   "cell_type": "code",
   "execution_count": 52,
   "id": "370aefda",
   "metadata": {},
   "outputs": [],
   "source": [
    "def get_date(day):\n",
    "    now = datetime.datetime.now()\n",
    "    ret_date = now + datetime.timedelta(days=day)\n",
    "    print(ret_date.strftime('%Y%m%d'))\n",
    "    return ret_date.strftime('%Y%m%d')"
   ]
  },
  {
   "cell_type": "code",
   "execution_count": null,
   "id": "f01b5589",
   "metadata": {},
   "outputs": [],
   "source": [
    "def movie_view(soup):\n",
    "    movie_table = soup.select_one('table.list_ranking')\n",
    "    movie_tbody = movie_table.select_one('tbody')\n",
    "    movie_tr = movie_tbody.select('tr')\n",
    "    for movie_tr_one in movie_tr:\n",
    "        title = movie_tr_one.select_one('a[title]')\n",
    "        point = movie_tr_one.select_one('td.point')\n",
    "        if title:\n",
    "            title = title.text\n",
    "        else:\n",
    "            continue\n",
    "        if point:\n",
    "            point = point.text\n",
    "        else:\n",
    "            continue\n",
    "        print(title, point)"
   ]
  },
  {
   "cell_type": "code",
   "execution_count": 22,
   "id": "4934acec",
   "metadata": {},
   "outputs": [],
   "source": [
    "soup = get_naver_movie()\n",
    "#soup"
   ]
  },
  {
   "cell_type": "code",
   "execution_count": 25,
   "id": "51bd3757",
   "metadata": {},
   "outputs": [],
   "source": [
    "movie_table = soup.select_one('table.list_ranking')"
   ]
  },
  {
   "cell_type": "code",
   "execution_count": 29,
   "id": "e218b578",
   "metadata": {},
   "outputs": [],
   "source": [
    "movie_tbody = movie_table.select_one('tbody')\n",
    "#movie_tbody"
   ]
  },
  {
   "cell_type": "code",
   "execution_count": 31,
   "id": "b16a5008",
   "metadata": {},
   "outputs": [
    {
     "data": {
      "text/plain": [
       "56"
      ]
     },
     "execution_count": 31,
     "metadata": {},
     "output_type": "execute_result"
    }
   ],
   "source": [
    "movie_tr = movie_tbody.select('tr')\n",
    "len(movie_tr)"
   ]
  },
  {
   "cell_type": "code",
   "execution_count": 48,
   "id": "fa639db3",
   "metadata": {},
   "outputs": [],
   "source": [
    "movie_tr_one = movie_tr[1]\n",
    "#movie_tr_one"
   ]
  },
  {
   "cell_type": "code",
   "execution_count": 41,
   "id": "d68472e6",
   "metadata": {},
   "outputs": [
    {
     "data": {
      "text/plain": [
       "('크루엘라', '9.58')"
      ]
     },
     "execution_count": 41,
     "metadata": {},
     "output_type": "execute_result"
    }
   ],
   "source": [
    "title = movie_tr_one.a['title']\n",
    "point = movie_tr_one.select_one('td.point').text\n",
    "title,point"
   ]
  },
  {
   "cell_type": "markdown",
   "id": "71ce5973",
   "metadata": {},
   "source": [
    "## 실행해보기"
   ]
  },
  {
   "cell_type": "code",
   "execution_count": 54,
   "id": "b29925d3",
   "metadata": {},
   "outputs": [
    {
     "name": "stdout",
     "output_type": "stream",
     "text": [
      "날짜 : 100\n",
      "20210216\n",
      "그린 북 9.59\n",
      "원더 9.51\n",
      "극장판 바이올렛 에버가든 9.50\n",
      "서유기 2 - 선리기연 9.36\n",
      "부활: 그 증거 9.34\n",
      "소울 9.32\n",
      "극장판 귀멸의 칼날: 무한열차편 9.22\n",
      "서유기 - 월광보합 9.21\n",
      "해피 투게더 9.17\n",
      "러브레터 9.12\n",
      "싸이코 9.09\n",
      "타오르는 여인의 초상 9.06\n",
      "굿바이 9.04\n",
      "남매의 여름밤 8.96\n",
      "러브 액츄얼리 8.93\n",
      "스포트라이트 8.93\n",
      "족벌 두 신문 이야기 8.89\n",
      "이별의 아침에 약속의 꽃을 장식하자 8.85\n",
      "작은 아씨들 8.83\n",
      "너의 이름은. 8.79\n",
      "화양연화 8.77\n",
      "찬실이는 복도 많지 8.74\n",
      "맨체스터 바이 더 씨 8.72\n",
      "현기증 8.72\n",
      "캐롤 8.60\n",
      "백엔의 사랑 8.51\n",
      "아비정전 8.50\n",
      "세자매 8.46\n",
      "너의 췌장을 먹고 싶어 8.36\n",
      "초속5센티미터 8.36\n",
      "콜드 워 8.26\n",
      "하나와 앨리스 8.11\n",
      "너의 췌장을 먹고 싶어 8.08\n",
      "문라이트 8.07\n",
      "더 울프 오브 월 스트리트 8.05\n",
      "해리 포터와 불의 잔 8.01\n",
      "일대종사 8.00\n",
      "날씨의 아이 7.96\n",
      "어니스트 씨프 7.94\n",
      "명탐정 코난: 진홍의 수학여행 7.56\n",
      "만추 7.42\n",
      "도굴 7.28\n",
      "새해전야 7.20\n",
      "몬스터 헌터 6.67\n",
      "쏘아올린 불꽃, 밑에서 볼까? 옆에서 볼까? 6.56\n"
     ]
    }
   ],
   "source": [
    "d = int(input('날짜 : '))\n",
    "date = get_date(-d)\n",
    "soup = get_naver_movie(sel='cur', date=date)\n",
    "movie_view(soup)"
   ]
  },
  {
   "cell_type": "code",
   "execution_count": null,
   "id": "0d03bf4b",
   "metadata": {},
   "outputs": [],
   "source": []
  },
  {
   "cell_type": "code",
   "execution_count": null,
   "id": "fc36db59",
   "metadata": {},
   "outputs": [],
   "source": []
  }
 ],
 "metadata": {
  "kernelspec": {
   "display_name": "Python 3",
   "language": "python",
   "name": "python3"
  },
  "language_info": {
   "codemirror_mode": {
    "name": "ipython",
    "version": 3
   },
   "file_extension": ".py",
   "mimetype": "text/x-python",
   "name": "python",
   "nbconvert_exporter": "python",
   "pygments_lexer": "ipython3",
   "version": "3.8.10"
  }
 },
 "nbformat": 4,
 "nbformat_minor": 5
}
